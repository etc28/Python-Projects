{
 "cells": [
  {
   "cell_type": "code",
   "execution_count": 1,
   "metadata": {},
   "outputs": [],
   "source": [
    "import twitter\n",
    "import pandas as pd\n",
    "import matplotlib.pyplot as plt"
   ]
  },
  {
   "cell_type": "code",
   "execution_count": 2,
   "metadata": {},
   "outputs": [
    {
     "data": {
      "text/plain": [
       "User(ID=1258128104872194054, ScreenName=etcates)"
      ]
     },
     "execution_count": 2,
     "metadata": {},
     "output_type": "execute_result"
    }
   ],
   "source": [
    "#connecting to twitter api and verifying credentials\n",
    "api = twitter.Api(consumer_key='GXrPoP4Z1eT3ZtPJjM4qxPIjX', consumer_secret='3RtGW2rPUssZjY3uimA0xNJLafhmHTvEXTooWhqzkYACZm0GRU',\n",
    "               access_token_key='1258128104872194054-npjItwV7PJzakkJtdPiOBj4UpoBBFO',\n",
    "               access_token_secret='84QriDYyeqtPkSktKYyUeyb0NrQoJjLOX3rpJD0i7j703')\n",
    "\n",
    "api.VerifyCredentials()"
   ]
  },
  {
   "cell_type": "code",
   "execution_count": 3,
   "metadata": {},
   "outputs": [
    {
     "name": "stdout",
     "output_type": "stream",
     "text": [
      "['@jk_rowling I still only own 0.25 Bitcoins btw', '@jk_rowling Pretty much, although massive currency issuance by govt central banks is making Bitcoin Internet 👻 mone… https://t.co/pczxGWBebT', '@prageru Pretty much', '@devonwerkharder Frankly, I don’t even know what “plethora” means', '@kimbal True', '@Gfilche @flcnhvy Agreed, people have forgotten how much in-person events matter! Also, there’s a lot to see. It’s not just a presentation.', '@PPathole @AdamDavidHalsey @devonwerkharder Making great candy is harder than it seems!', '@koro_alex @PeoplesPartisan @Orangemangood11 @sendasspicz @tanthallas @MarcusMaximus04 Maximize the freedom of action of the people', '@flcnhvy True', '@flcnhvy Great wiki piece!', '@DavidMainayar Napoleon was incredible. “It is my wish that my ashes may repose on the banks of the Seine, in the m… https://t.co/4DRSn59M7d', 'The Age of Napoleon by Will &amp; Ariel Durant is an amazing book', 'RT @KerbalSpaceP: Kerbonauts, we have a mission for you! On May 27, @SpaceX and @NASA are launching astronauts to the @Space_Station from U…', '@akidesir @DanielleFong @ThieveryCorpDC A few weeks away', '@DanielleFong @ThieveryCorpDC Totally. Collective mind control by stoking fear.', '@olimould Marx vs Adam Smith -&gt; Adam Smith for the win. Not even close.', '@jonnajarian Yes, improvement is exponential', '@Jennerator211 Yeah. Maybe following individual journalists &amp; citizen journalists is better than publications. The… https://t.co/UKdUdUH9yc', 'It’s remarkable how often The News attempts to answer the question: what is the worst thing that happened on Earth… https://t.co/hYGYvn5Y4T', '@crystaloftruth @Newsweek Still am', '@crystaloftruth @Newsweek More or less crazy than reality itself?', '@lavvphotography @Newsweek It’s next-level for sure. Reality is getting weird fast.', '@Oh_Gee_Man Famous last words', '@Newsweek I said run for office, not president (sigh). Who even owns Newsweek these days? I lost track.', '@Teslarati Boring Co will also connect Vegas hotels &amp; airport. Autonomous Teslas in tunnels will provide individualized mass transit.', '@flcnhvy We’re going to have to push out the date or attendance will be very low. Maybe do in two parts: webcast ne… https://t.co/ZXnfICIadF', '@PPathole @stoolpresidente Hospitals are going bankrupt for lack of patients https://t.co/Wfew0owsGP', '@AntonTonchev77 @SciGuySpace True (sigh)', '@AdamDavidHalsey @devonwerkharder Seriously, Big Candy is suppressing R&amp;D! When’s the last time you heard of a great new candy bar?', '@franksdcaudill He was critical of large bureaucracies &amp; Napoleon III was indeed a knucklehead', '@ylecun @an_open_mind @jjvincent Fair point, PyTorch is great!', '@devonwerkharder Capitalism already has many fetters in the form of a plethora of regulatory bodies! I’m definitely… https://t.co/aTLWBkDI5z', '@Tallest0ne Probably sooner', '@ReidarSundy @TheZenCorner @stoolpresidente This is happening a lot', '@MMelinot That would be cool!', '@vistacruiser7 @flcnhvy Very much agree!', '@nichegamer 🤣🤣 Along with several guillotine death threats!', 'Boring Company completes 2nd Vegas tunnel https://t.co/13Hy3toyJR', 'RT @boringcompany: Breakthrough, Part Deux  @LVCVA', 'In his 18th Brumaire essay (in which he does make some good points), Marx famously said history repeats itself, fir… https://t.co/qRJbeRvbcQ', '@CodingMark @ResistMonsters @TheZenCorner @stoolpresidente Exactly', '@flcnhvy Tesla makes the safest cars in the world &amp; our factory injury rate is better than industry avg &amp; tracking… https://t.co/UMfhMOOWJJ', '@flcnhvy SpaceX has 8000 employees in California, Washington, Texas &amp; Florida. Operating this entire time, as we ha… https://t.co/AopySeb8Cw', '@flcnhvy Absolutely. Tesla already went through this in China with 7000 employees. Zero fatalities or serious illnesses.', '@TheZenCorner @stoolpresidente The statistics stopped being valid when anyone with “covid symptoms”, which is now a… https://t.co/jrS3Fl2cXc', '@stoolpresidente Well said! Please run for office. The politicians &amp; unelected bureaucrats who stole our liberty sh… https://t.co/TiwN4pijrJ', '@AlexBerenson @nytimes Exactly', '@jl0v1n9t0n @jpr007 Yes', '@jpr007 Exactly', '@teslainventory Thanks for adding!', 'Tesla Supercharger usage by region https://t.co/1y2zL2Jizt', 'Top Marx https://t.co/GWG7hXioiV', '@an_open_mind @jjvincent Facebook sucks', 'RT @JimBridenstine: Here’s some @Tesla news that everyone should love. Check out the Model X that will carry @AstroBehnken and @Astro_Doug…', '@torybruno @SciGuySpace Fair point', 'Super exciting day coming up! https://t.co/7ZdFsJE9zR', '@RosilesEddie @thirdrowtesla @ACSOSheriffs @GavinNewsom The custom styling some of the team is doing over their masks is really cool!', '@macodiseas @Lunakerrigan @SciGuySpace Exactly!', '@SciGuySpace Said another way, Falcon Heavy has 2/3 thrust of Saturn V. Starship/Super Heavy will have double thrust of Saturn V.', '@SciGuySpace Power of F9 today is still not widely understood. It has about same thrust as Delta IV Heavy, most pow… https://t.co/kcQex6PzqD', '@Jeff2Serenity @SciGuySpace Yes', 'RT @SpaceX: The first stage rocket booster supporting this mission previously  launched two Starlink missions, as well as the Iridium-8 and…', 'RT @SpaceX: Static fire test of Falcon 9 complete—targeting Sunday, May 17 at 3:53 a.m. EDT, 7:53 UTC, for launch of the eighth Starlink mi…', '@SciGuySpace Cost-plus contracting is the devil', 'RT @cleantechnica: Elon Musk’s Email To Tesla Employees Returning To\\xa0Work https://t.co/MYCLC79XJw', 'RT @Teslarati: Tesla’s proven anti-pandemic safety plan has fallen on deaf ears amid an anti-Elon Musk narrative\\nhttps://t.co/MO6pdB6vDb', 'https://t.co/lQWpSwtRj7', '@jaredpolis @Tesla @kimbal Hi Jared, Colorado is great! I think your policies make a lot of sense.', 'Life should be lived', '@teslaownersSV Buca', 'Ice cream sundae in a martini glass https://t.co/zAVFlOsYkM', '@PPathole @flcnhvy Tolkien rocks', '@flcnhvy For sure ♥️', '@Darktionary @AlexBerenson @Barnes_Law @Facebook Best group on FB by far', 'RT @SpaceX: Simulator of Crew Dragon docking with @space_station → https://t.co/vVqJfnbuNC https://t.co/ZH3bkT0DhM', '@nichegamer @Crusade4change @realDonaldTrump Personally, I think we should https://t.co/kfui7W9VTU', '@flcnhvy @Erdayastronaut @jack This is getting annoying. Honestly, I’m not sure it’s even helping their scam!', '@Crusade4change @realDonaldTrump Those who always disagree have a closed mind … but, by their very nature, that won’t sink in (sigh)', '@thirdrowtesla It’s not often that the Governor of California &amp; the President agree!', '@realDonaldTrump Thank you!', '@AlexBerenson It appears that what he is saying is untrue', '@sara_boutall @RenataKonkoly @Johnnaaaaaaaaaa @MichaelGalanin @romanhistory1 @engineers_feed @Kristennetten 🤣💕', '@archillect Lil baby', '@WolvesSuperfan Great', '@Arin_Dom90 Tough call. Maybe Newton by a small margin. Both obviously extremely smart for a human.', '@Johnnaaaaaaaaaa Wow, great writing!', '@PPathole 🤣🤣', '@KenJennings All other car companies are allowed to manufacture *except* Tesla, you knucklehead. No wonder you got… https://t.co/LkrUaFWyt6', '@teslaownersSV Much appreciated!', 'That’s pretty much what happened https://t.co/5Enzgt20q7', '@Alex_ADEdge @NASASpaceflight Pretty close. It will look absurdly tall &amp; have a lot more ground support equipment.', '@alandail Haggerty actually admitted to NYT that he told his staff to “slow down” Tesla for reasons that had nothin… https://t.co/BzhReGljBO', '@tobyliiiiiiiiii @SeeSunnySierra Exactly', '@flcnhvy @thehill @GavinNewsom Exactly', '@thehill Don’t mislead the public. State said YES, an unelected county official is the problem. Tesla factory in ad… https://t.co/RgdGBvw5fX', 'RT @elonmusk: @ChillMichelle @Tesla Yes, California approved, but an unelected county official illegally overrode. Also, all other auto com…', 'Tesla is restarting production today against Alameda County rules. I will be on the line with everyone else. If any… https://t.co/c6C8SDqyNY', '@ChillMichelle @Tesla Yes, California approved, but an unelected county official illegally overrode. Also, all othe… https://t.co/jtPRHGlTYt', '@thirdrowtesla @GavinNewsom Thank you Governor Newsom!', '@eBookBooster Zork with AI dungeon master']\n"
     ]
    }
   ],
   "source": [
    "#pulling up Elon Musks tweets\n",
    "tweets = api.GetUserTimeline(screen_name='elonmusk', count=100)\n",
    "\n",
    "#showing tweets\n",
    "print([t.text for t in tweets])"
   ]
  },
  {
   "cell_type": "code",
   "execution_count": 4,
   "metadata": {},
   "outputs": [],
   "source": [
    "#creating a df of the tweets\n",
    "df = pd.DataFrame(data=[t.text for t in tweets], columns=['tweets'])"
   ]
  },
  {
   "cell_type": "code",
   "execution_count": 5,
   "metadata": {},
   "outputs": [
    {
     "data": {
      "text/html": [
       "<div>\n",
       "<style scoped>\n",
       "    .dataframe tbody tr th:only-of-type {\n",
       "        vertical-align: middle;\n",
       "    }\n",
       "\n",
       "    .dataframe tbody tr th {\n",
       "        vertical-align: top;\n",
       "    }\n",
       "\n",
       "    .dataframe thead th {\n",
       "        text-align: right;\n",
       "    }\n",
       "</style>\n",
       "<table border=\"1\" class=\"dataframe\">\n",
       "  <thead>\n",
       "    <tr style=\"text-align: right;\">\n",
       "      <th></th>\n",
       "      <th>tweets</th>\n",
       "    </tr>\n",
       "  </thead>\n",
       "  <tbody>\n",
       "    <tr>\n",
       "      <td>0</td>\n",
       "      <td>@jk_rowling I still only own 0.25 Bitcoins btw</td>\n",
       "    </tr>\n",
       "    <tr>\n",
       "      <td>1</td>\n",
       "      <td>@jk_rowling Pretty much, although massive curr...</td>\n",
       "    </tr>\n",
       "    <tr>\n",
       "      <td>2</td>\n",
       "      <td>@prageru Pretty much</td>\n",
       "    </tr>\n",
       "    <tr>\n",
       "      <td>3</td>\n",
       "      <td>@devonwerkharder Frankly, I don’t even know wh...</td>\n",
       "    </tr>\n",
       "    <tr>\n",
       "      <td>4</td>\n",
       "      <td>@kimbal True</td>\n",
       "    </tr>\n",
       "    <tr>\n",
       "      <td>...</td>\n",
       "      <td>...</td>\n",
       "    </tr>\n",
       "    <tr>\n",
       "      <td>95</td>\n",
       "      <td>RT @elonmusk: @ChillMichelle @Tesla Yes, Calif...</td>\n",
       "    </tr>\n",
       "    <tr>\n",
       "      <td>96</td>\n",
       "      <td>Tesla is restarting production today against A...</td>\n",
       "    </tr>\n",
       "    <tr>\n",
       "      <td>97</td>\n",
       "      <td>@ChillMichelle @Tesla Yes, California approved...</td>\n",
       "    </tr>\n",
       "    <tr>\n",
       "      <td>98</td>\n",
       "      <td>@thirdrowtesla @GavinNewsom Thank you Governor...</td>\n",
       "    </tr>\n",
       "    <tr>\n",
       "      <td>99</td>\n",
       "      <td>@eBookBooster Zork with AI dungeon master</td>\n",
       "    </tr>\n",
       "  </tbody>\n",
       "</table>\n",
       "<p>100 rows × 1 columns</p>\n",
       "</div>"
      ],
      "text/plain": [
       "                                               tweets\n",
       "0      @jk_rowling I still only own 0.25 Bitcoins btw\n",
       "1   @jk_rowling Pretty much, although massive curr...\n",
       "2                                @prageru Pretty much\n",
       "3   @devonwerkharder Frankly, I don’t even know wh...\n",
       "4                                        @kimbal True\n",
       "..                                                ...\n",
       "95  RT @elonmusk: @ChillMichelle @Tesla Yes, Calif...\n",
       "96  Tesla is restarting production today against A...\n",
       "97  @ChillMichelle @Tesla Yes, California approved...\n",
       "98  @thirdrowtesla @GavinNewsom Thank you Governor...\n",
       "99          @eBookBooster Zork with AI dungeon master\n",
       "\n",
       "[100 rows x 1 columns]"
      ]
     },
     "execution_count": 5,
     "metadata": {},
     "output_type": "execute_result"
    }
   ],
   "source": [
    "df"
   ]
  },
  {
   "cell_type": "code",
   "execution_count": null,
   "metadata": {},
   "outputs": [],
   "source": []
  }
 ],
 "metadata": {
  "kernelspec": {
   "display_name": "Python 3",
   "language": "python",
   "name": "python3"
  },
  "language_info": {
   "codemirror_mode": {
    "name": "ipython",
    "version": 3
   },
   "file_extension": ".py",
   "mimetype": "text/x-python",
   "name": "python",
   "nbconvert_exporter": "python",
   "pygments_lexer": "ipython3",
   "version": "3.7.4"
  }
 },
 "nbformat": 4,
 "nbformat_minor": 2
}
